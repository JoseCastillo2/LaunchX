{
 "cells": [
  {
   "cell_type": "markdown",
   "metadata": {},
   "source": [
    "# Operaciones Matemáticas\n",
    "\n",
    "Ejercicio 1"
   ]
  },
  {
   "cell_type": "code",
   "execution_count": null,
   "metadata": {},
   "outputs": [],
   "source": [
    "dist_tierra = 149597870 #km\n",
    "dist_jupiter = 778547200 #km\n",
    "\n",
    "dist_jupi_Tierra_km = dist_jupiter - dist_tierra\n",
    "print('Distancia entre Tierra y Jupiter: ' + str(dist_jupi_Tierra_km) + ' km')\n",
    "\n",
    "dist_jupi_Tierra_mi = dist_jupi_Tierra_km*0.621\n",
    "print('Distancia entre Tierra y Jupiter: ' + str(dist_jupi_Tierra_mi) + ' mi')"
   ]
  },
  {
   "cell_type": "markdown",
   "metadata": {},
   "source": [
    "Ejercicio 2"
   ]
  },
  {
   "cell_type": "code",
   "execution_count": null,
   "metadata": {},
   "outputs": [],
   "source": [
    "primer_planeta = input(\"Introduce la distacia al sol del primer planeta (en km)\")\n",
    "segundo_planeta = input(\"Introduce la distacia al sol del segundo planeta (en km)\")\n",
    "\n",
    "primer_planeta = int(primer_planeta)\n",
    "segundo_planeta = int(segundo_planeta)\n",
    "\n",
    "dist_planetas_km = abs(segundo_planeta - primer_planeta)\n",
    "print (\"La distancia en kilometros entre los planetas es: \" + str(dist_planetas_km) + \" km\")\n",
    "\n",
    "dist_planetas_mi = dist_planetas_km*0.621\n",
    "print (\"La distancia en millas entre los planetas es: \" + str(dist_planetas_mi) + \" mi\")"
   ]
  }
 ],
 "metadata": {
  "interpreter": {
   "hash": "7f88ee300d23d20ddac7f7159cb824879b5887f251f226e318205922330b58d6"
  },
  "kernelspec": {
   "display_name": "Python 3.10.2 64-bit",
   "language": "python",
   "name": "python3"
  },
  "language_info": {
   "codemirror_mode": {
    "name": "ipython",
    "version": 3
   },
   "file_extension": ".py",
   "mimetype": "text/x-python",
   "name": "python",
   "nbconvert_exporter": "python",
   "pygments_lexer": "ipython3",
   "version": "3.10.2"
  },
  "orig_nbformat": 4
 },
 "nbformat": 4,
 "nbformat_minor": 2
}
