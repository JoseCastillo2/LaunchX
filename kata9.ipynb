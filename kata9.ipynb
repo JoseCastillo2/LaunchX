{
 "cells": [
  {
   "cell_type": "markdown",
   "metadata": {},
   "source": [
    "# Funciones\n",
    "\n",
    "Ejercicio 1"
   ]
  },
  {
   "cell_type": "code",
   "execution_count": null,
   "metadata": {},
   "outputs": [],
   "source": [
    "def info_combustible(tanque1,tanque2,tanque3):\n",
    "    promCombustible = (tanque1+tanque2+tanque3) / 3\n",
    "    return f\"\"\"El contenido del Tanque 1 es: {tanque1}%\n",
    "El contenido del Tanque 2 es: {tanque2}%\n",
    "El contenido del Tanque 3 es: {tanque3}%\n",
    "El promedio total es {promCombustible}%\"\"\"\n",
    "\n",
    "print(info_combustible(50,85,30))\n"
   ]
  },
  {
   "cell_type": "code",
   "execution_count": null,
   "metadata": {},
   "outputs": [],
   "source": [
    "def calcular_promedio(valores):\n",
    "    total = sum(valores)\n",
    "    cantidadValores = len(valores)\n",
    "    promTotal = total / cantidadValores\n",
    "    return promTotal\n",
    "\n",
    "def info_combustible(tanque1,tanque2,tanque3):\n",
    "    promCombustible = calcular_promedio([tanque1,tanque2,tanque3])\n",
    "    return f\"\"\"El contenido del Tanque 1 es: {tanque1}%\n",
    "El contenido del Tanque 2 es: {tanque2}%\n",
    "El contenido del Tanque 3 es: {tanque3}%\n",
    "El promedio total es {promCombustible}%\"\"\"\n",
    "\n",
    "print(info_combustible(50,85,30))"
   ]
  },
  {
   "cell_type": "markdown",
   "metadata": {},
   "source": [
    "Ejercicio 2"
   ]
  },
  {
   "cell_type": "code",
   "execution_count": null,
   "metadata": {},
   "outputs": [],
   "source": [
    "def reporte_mision(hrPrelanzamiento,tpoVuelo,destino,tanqueInt,tanqueExt):\n",
    "    return f\"\"\"Destino: {destino}\n",
    "Tiempo de viaje: {hrPrelanzamiento + tpoVuelo} min\n",
    "Combustible restante: {tanqueExt + tanqueInt} gal\n",
    "\"\"\"\n",
    "\n",
    "print(reporte_mision(10, 58, \"Luna\", 300000, 150000))\n"
   ]
  },
  {
   "cell_type": "code",
   "execution_count": null,
   "metadata": {},
   "outputs": [],
   "source": [
    "def reporte_mision(destino, *minutos, **rsrvCombustible):\n",
    "    return f\"\"\"Destino: {destino}\n",
    "Tiempo de viaje: {sum(minutos)} min\n",
    "Combustible restante: {sum(rsrvCombustible.values())}\n",
    "\"\"\"\n",
    "\n",
    "print(reporte_mision(\"Luna\", 10, 15, 51, tanqueInt=300000, tanqueExt=15000))"
   ]
  },
  {
   "cell_type": "code",
   "execution_count": null,
   "metadata": {},
   "outputs": [],
   "source": [
    "def reporte_mision(destino, *minutos, **rsrvCombustible):\n",
    "    reporte = f\"\"\"Destino: {destino}\n",
    "Tiempo de viaje: {sum(minutos)} min\n",
    "Combustible restante: {sum(rsrvCombustible.values())}\n",
    "\"\"\"\n",
    "    for tanque, galones in rsrvCombustible.items():\n",
    "        reporte += f\"{tanque} Tanque --> {galones} gal restante\\n\"\n",
    "    return reporte\n",
    "\n",
    "print(reporte_mision(\"Luna\", 10, 15, 51, tanqueInt=300000, tanqueExt=15000))"
   ]
  }
 ],
 "metadata": {
  "interpreter": {
   "hash": "7f88ee300d23d20ddac7f7159cb824879b5887f251f226e318205922330b58d6"
  },
  "kernelspec": {
   "display_name": "Python 3.10.2 64-bit",
   "language": "python",
   "name": "python3"
  },
  "language_info": {
   "codemirror_mode": {
    "name": "ipython",
    "version": 3
   },
   "file_extension": ".py",
   "mimetype": "text/x-python",
   "name": "python",
   "nbconvert_exporter": "python",
   "pygments_lexer": "ipython3",
   "version": "3.10.2"
  },
  "orig_nbformat": 4
 },
 "nbformat": 4,
 "nbformat_minor": 2
}
