{
 "cells": [
  {
   "cell_type": "markdown",
   "metadata": {},
   "source": [
    "# Sentencias if, else y elif\n",
    "\n",
    "Ejercicio 1"
   ]
  },
  {
   "cell_type": "code",
   "execution_count": 11,
   "metadata": {},
   "outputs": [
    {
     "name": "stdout",
     "output_type": "stream",
     "text": [
      "Precaución!!!, Asteriode acercandose rápidamente.\n"
     ]
    }
   ],
   "source": [
    "velocidad_limite = 25\n",
    "vel_asteroide = 49\n",
    "\n",
    "if vel_asteroide > velocidad_limite:\n",
    "    print('Precaución!!!, Asteriode acercandose rápidamente.')\n",
    "else:\n",
    "    print('No hay asteroide fuera de lo normal.')"
   ]
  },
  {
   "cell_type": "markdown",
   "metadata": {},
   "source": [
    "Ejercicio 2"
   ]
  },
  {
   "cell_type": "code",
   "execution_count": 10,
   "metadata": {},
   "outputs": [
    {
     "name": "stdout",
     "output_type": "stream",
     "text": [
      "Nada fuera de lo normal.\n"
     ]
    }
   ],
   "source": [
    "velocidad_limite = 20\n",
    "vel_asteroide = 19\n",
    "\n",
    "if vel_asteroide > velocidad_limite:\n",
    "    print('Precaución!!!, Se puede percibir una luz en el cielo.')\n",
    "elif vel_asteroide == velocidad_limite:\n",
    "    print('Precaución!!!, Se puede percibir una luz en el cielo.')\n",
    "else:\n",
    "    print('Nada fuera de lo normal.')"
   ]
  },
  {
   "cell_type": "markdown",
   "metadata": {},
   "source": [
    "Ejercicio 3"
   ]
  },
  {
   "cell_type": "code",
   "execution_count": 25,
   "metadata": {},
   "outputs": [
    {
     "name": "stdout",
     "output_type": "stream",
     "text": [
      "Nada fuera de lo normal.\n"
     ]
    }
   ],
   "source": [
    "velocidad_limite = 25\n",
    "vel_limite_luz = 20\n",
    "tam_limite_inf = 25\n",
    "tam_limite_sup = 1000\n",
    "vel_asteroide = 25\n",
    "tam_asteroide = 40\n",
    "\n",
    "if vel_asteroide > velocidad_limite and tam_asteroide >= tam_limite_inf:\n",
    "    print('ALERTA!!!, Se aproxima un asteroide.')\n",
    "elif vel_asteroide >= vel_limite_luz:\n",
    "    print('Precaución!!!, Se puede percibir una luz en el cielo.')\n",
    "elif tam_asteroide < tam_limite_inf:\n",
    "    print('Nada fuera de lo normal.')    \n",
    "else:\n",
    "    print('Nada fuera de lo normal.')"
   ]
  }
 ],
 "metadata": {
  "interpreter": {
   "hash": "7f88ee300d23d20ddac7f7159cb824879b5887f251f226e318205922330b58d6"
  },
  "kernelspec": {
   "display_name": "Python 3.10.2 64-bit",
   "language": "python",
   "name": "python3"
  },
  "language_info": {
   "codemirror_mode": {
    "name": "ipython",
    "version": 3
   },
   "file_extension": ".py",
   "mimetype": "text/x-python",
   "name": "python",
   "nbconvert_exporter": "python",
   "pygments_lexer": "ipython3",
   "version": "3.10.2"
  },
  "orig_nbformat": 4
 },
 "nbformat": 4,
 "nbformat_minor": 2
}
