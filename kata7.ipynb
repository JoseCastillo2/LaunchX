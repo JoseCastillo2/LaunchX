{
 "cells": [
  {
   "cell_type": "markdown",
   "metadata": {},
   "source": [
    "# Estructuras De Control\n",
    "\n",
    "Ejercicio 1"
   ]
  },
  {
   "cell_type": "code",
   "execution_count": null,
   "metadata": {},
   "outputs": [],
   "source": [
    "usr_planeta = ''\n",
    "planetas = []\n",
    "\n",
    "while usr_planeta.lower() != 'fin':\n",
    "    if usr_planeta:\n",
    "        planetas.append(usr_planeta)\n",
    "    usr_planeta = input('Introduzca el nombre de un planeta, para finalizar escriba la palabra \"fin\"')"
   ]
  },
  {
   "cell_type": "markdown",
   "metadata": {},
   "source": [
    "Ejercicio 2"
   ]
  },
  {
   "cell_type": "code",
   "execution_count": null,
   "metadata": {},
   "outputs": [],
   "source": [
    "usr_planeta = ''\n",
    "planetas = []\n",
    "\n",
    "while usr_planeta.lower() != 'fin':\n",
    "    if usr_planeta:\n",
    "        planetas.append(usr_planeta)\n",
    "    usr_planeta = input('Introduzca el nombre de un planeta, para finalizar escriba la palabra \"fin\"')\n",
    "\n",
    "for planeta in planetas:\n",
    "    print(planeta.title())"
   ]
  }
 ],
 "metadata": {
  "interpreter": {
   "hash": "7f88ee300d23d20ddac7f7159cb824879b5887f251f226e318205922330b58d6"
  },
  "kernelspec": {
   "display_name": "Python 3.10.2 64-bit",
   "language": "python",
   "name": "python3"
  },
  "language_info": {
   "codemirror_mode": {
    "name": "ipython",
    "version": 3
   },
   "file_extension": ".py",
   "mimetype": "text/x-python",
   "name": "python",
   "nbconvert_exporter": "python",
   "pygments_lexer": "ipython3",
   "version": "3.10.2"
  },
  "orig_nbformat": 4
 },
 "nbformat": 4,
 "nbformat_minor": 2
}
