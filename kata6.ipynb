{
 "cells": [
  {
   "cell_type": "markdown",
   "metadata": {},
   "source": [
    "# Listas\n",
    "\n",
    "Ejercicio 1"
   ]
  },
  {
   "cell_type": "code",
   "execution_count": null,
   "metadata": {},
   "outputs": [],
   "source": [
    "planetas = ['Mercurio','Venus','Tierra','Marte','Júpiter','Saturno','Urano','Neptuno']\n",
    "print('Nímero de planetas: ' + str(len(planetas)))\n",
    "print(planetas)\n",
    "\n",
    "planetas.append('Plutón')\n",
    "print('Último planeta: ' + planetas[-1])"
   ]
  },
  {
   "cell_type": "markdown",
   "metadata": {},
   "source": [
    "Ejercicio 2"
   ]
  },
  {
   "cell_type": "code",
   "execution_count": null,
   "metadata": {},
   "outputs": [],
   "source": [
    "planetas = ['Mercurio','Venus','Tierra','Marte','Júpiter','Saturno','Urano','Neptuno']\n",
    "\n",
    "nombre_planeta = input('Introduzca el nombre de un planeta (Comenzando con una letra mayúscula)')\n",
    "indice_planeta = planetas.index(nombre_planeta)\n",
    "\n",
    "print('Los planetas más cercanos al Sol que ' + nombre_planeta + ' son: ')\n",
    "print(planetas[0:indice_planeta])\n",
    "\n",
    "print('Los planetas más lejanos al Sol que ' + nombre_planeta + ' son: ')\n",
    "print(planetas[indice_planeta + 1:])\n"
   ]
  }
 ],
 "metadata": {
  "interpreter": {
   "hash": "7f88ee300d23d20ddac7f7159cb824879b5887f251f226e318205922330b58d6"
  },
  "kernelspec": {
   "display_name": "Python 3.10.2 64-bit",
   "language": "python",
   "name": "python3"
  },
  "language_info": {
   "codemirror_mode": {
    "name": "ipython",
    "version": 3
   },
   "file_extension": ".py",
   "mimetype": "text/x-python",
   "name": "python",
   "nbconvert_exporter": "python",
   "pygments_lexer": "ipython3",
   "version": "3.10.2"
  },
  "orig_nbformat": 4
 },
 "nbformat": 4,
 "nbformat_minor": 2
}
