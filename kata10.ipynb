{
 "cells": [
  {
   "cell_type": "markdown",
   "metadata": {},
   "source": [
    "# Manejo De Errores\n",
    "\n",
    "Ejercicios"
   ]
  },
  {
   "cell_type": "code",
   "execution_count": null,
   "metadata": {},
   "outputs": [],
   "source": [
    "open(\"/carpeta/imagen.jpg\")"
   ]
  },
  {
   "cell_type": "code",
   "execution_count": null,
   "metadata": {},
   "outputs": [],
   "source": [
    "def main():\n",
    "    open(\"/carpeta/imagen.jpg\")\n",
    "\n",
    "if __name__ == '__main__':\n",
    "    main()"
   ]
  },
  {
   "cell_type": "code",
   "execution_count": null,
   "metadata": {},
   "outputs": [],
   "source": [
    "try:\n",
    "    open('config.txt')\n",
    "except FileNotFoundError:\n",
    "    print(\"No se encuentra el archivo config.txt!\")"
   ]
  },
  {
   "cell_type": "code",
   "execution_count": null,
   "metadata": {},
   "outputs": [],
   "source": [
    "def main():\n",
    "    try:\n",
    "        configuracion = open('config.txt')\n",
    "    except FileNotFoundError:\n",
    "        print(\"No se encuentra el archivo config.txt!\")\n",
    "\n",
    "\n",
    "if __name__ == '__main__':\n",
    "    main()"
   ]
  },
  {
   "cell_type": "code",
   "execution_count": null,
   "metadata": {},
   "outputs": [],
   "source": [
    "def main():\n",
    "    try:\n",
    "        configuration = open('config.txt')\n",
    "    except FileNotFoundError:\n",
    "        print(\"No se encuentra el archivo config.txt!\")\n",
    "    except IsADirectoryError:\n",
    "        print(\"Archivo config.txt encontrado, pero es un directorio, no se puede leer!\")\n",
    "\n",
    "if __name__ == '__main__':\n",
    "    main()"
   ]
  },
  {
   "cell_type": "code",
   "execution_count": null,
   "metadata": {},
   "outputs": [],
   "source": [
    "try:\n",
    "    open(\"config.txt\")\n",
    "except OSError as err:\n",
    "    if err.errno == 2:\n",
    "        print(\"No se encuentra eel archivo config.txt!\")\n",
    "    elif err.errno == 13:\n",
    "        print(\"Archivo config.txt encontrado, pero es un directorio, no se puede leer!\")\n",
    "\n",
    "if __name__ == '__main__':\n",
    "    main()"
   ]
  },
  {
   "cell_type": "code",
   "execution_count": null,
   "metadata": {},
   "outputs": [],
   "source": [
    "def agua_restante(astronautas, agua_restante, dias_restantes):\n",
    "    uso_diario = astronautas * 11\n",
    "    uso_total = uso_diario * dias_restantes\n",
    "    total_agua_restante = agua_restante - uso_total\n",
    "    return f\"Agua restante después de {dias_restantes} días es: {total_agua_restante} litros\"\n",
    "\n",
    "agua_restante(5, 100, 2)"
   ]
  },
  {
   "cell_type": "code",
   "execution_count": null,
   "metadata": {},
   "outputs": [],
   "source": [
    "def agua_restante(astronautas, agua_restante, dias_restantes):\n",
    "    uso_diario = astronautas * 11\n",
    "    uso_total = uso_diario * dias_restantes\n",
    "    total_agua_restante = agua_restante - uso_total\n",
    "    if total_agua_restante < 0:\n",
    "        raise RuntimeError(f\"No hay suficiente agua para {astronautas} astronautas después de {dias_restantes} días!\")\n",
    "    return f\"Agua restante después de {dias_restantes} días es: {total_agua_restante} litros\"\n",
    "\n",
    "agua_restante(5, 100, 2)\n"
   ]
  },
  {
   "cell_type": "code",
   "execution_count": 56,
   "metadata": {},
   "outputs": [
    {
     "ename": "TypeError",
     "evalue": "Todos los argumentos deben ser de tipo int, pero se recibió: '200'",
     "output_type": "error",
     "traceback": [
      "\u001b[1;31m---------------------------------------------------------------------------\u001b[0m",
      "\u001b[1;31mTypeError\u001b[0m                                 Traceback (most recent call last)",
      "\u001b[1;32mc:\\Users\\JOTACE\\Documents\\LaunchX\\OnBoarding\\Modulo10\\kata10.ipynb Cell 10'\u001b[0m in \u001b[0;36magua_restante\u001b[1;34m(astronautas, agua_restante, dias_restantes)\u001b[0m\n\u001b[0;32m      <a href='vscode-notebook-cell:/c%3A/Users/JOTACE/Documents/LaunchX/OnBoarding/Modulo10/kata10.ipynb#ch0000011?line=2'>3</a>\u001b[0m \u001b[39mtry\u001b[39;00m:\n\u001b[1;32m----> <a href='vscode-notebook-cell:/c%3A/Users/JOTACE/Documents/LaunchX/OnBoarding/Modulo10/kata10.ipynb#ch0000011?line=3'>4</a>\u001b[0m     argumento \u001b[39m/\u001b[39;49m \u001b[39m10\u001b[39;49m\n\u001b[0;32m      <a href='vscode-notebook-cell:/c%3A/Users/JOTACE/Documents/LaunchX/OnBoarding/Modulo10/kata10.ipynb#ch0000011?line=4'>5</a>\u001b[0m \u001b[39mexcept\u001b[39;00m \u001b[39mTypeError\u001b[39;00m:\n",
      "\u001b[1;31mTypeError\u001b[0m: unsupported operand type(s) for /: 'str' and 'int'",
      "\nDuring handling of the above exception, another exception occurred:\n",
      "\u001b[1;31mTypeError\u001b[0m                                 Traceback (most recent call last)",
      "\u001b[1;32mc:\\Users\\JOTACE\\Documents\\LaunchX\\OnBoarding\\Modulo10\\kata10.ipynb Cell 10'\u001b[0m in \u001b[0;36m<module>\u001b[1;34m\u001b[0m\n\u001b[0;32m     <a href='vscode-notebook-cell:/c%3A/Users/JOTACE/Documents/LaunchX/OnBoarding/Modulo10/kata10.ipynb#ch0000011?line=10'>11</a>\u001b[0m         \u001b[39mraise\u001b[39;00m \u001b[39mRuntimeError\u001b[39;00m(\u001b[39mf\u001b[39m\u001b[39m\"\u001b[39m\u001b[39mNo hay suficiente agua para \u001b[39m\u001b[39m{\u001b[39;00mastronautas\u001b[39m}\u001b[39;00m\u001b[39m astronautas después de \u001b[39m\u001b[39m{\u001b[39;00mdias_restantes\u001b[39m}\u001b[39;00m\u001b[39m días!\u001b[39m\u001b[39m\"\u001b[39m)\n\u001b[0;32m     <a href='vscode-notebook-cell:/c%3A/Users/JOTACE/Documents/LaunchX/OnBoarding/Modulo10/kata10.ipynb#ch0000011?line=11'>12</a>\u001b[0m     \u001b[39mreturn\u001b[39;00m \u001b[39mf\u001b[39m\u001b[39m\"\u001b[39m\u001b[39mAgua restante después de \u001b[39m\u001b[39m{\u001b[39;00mdias_restantes\u001b[39m}\u001b[39;00m\u001b[39m días es: \u001b[39m\u001b[39m{\u001b[39;00mtotal_agua_restante\u001b[39m}\u001b[39;00m\u001b[39m litros\u001b[39m\u001b[39m\"\u001b[39m\n\u001b[1;32m---> <a href='vscode-notebook-cell:/c%3A/Users/JOTACE/Documents/LaunchX/OnBoarding/Modulo10/kata10.ipynb#ch0000011?line=13'>14</a>\u001b[0m agua_restante(\u001b[39m3\u001b[39;49m, \u001b[39m\"\u001b[39;49m\u001b[39m200\u001b[39;49m\u001b[39m\"\u001b[39;49m, \u001b[39mNone\u001b[39;49;00m)\n",
      "\u001b[1;32mc:\\Users\\JOTACE\\Documents\\LaunchX\\OnBoarding\\Modulo10\\kata10.ipynb Cell 10'\u001b[0m in \u001b[0;36magua_restante\u001b[1;34m(astronautas, agua_restante, dias_restantes)\u001b[0m\n\u001b[0;32m      <a href='vscode-notebook-cell:/c%3A/Users/JOTACE/Documents/LaunchX/OnBoarding/Modulo10/kata10.ipynb#ch0000011?line=3'>4</a>\u001b[0m         argumento \u001b[39m/\u001b[39m \u001b[39m10\u001b[39m\n\u001b[0;32m      <a href='vscode-notebook-cell:/c%3A/Users/JOTACE/Documents/LaunchX/OnBoarding/Modulo10/kata10.ipynb#ch0000011?line=4'>5</a>\u001b[0m     \u001b[39mexcept\u001b[39;00m \u001b[39mTypeError\u001b[39;00m:\n\u001b[1;32m----> <a href='vscode-notebook-cell:/c%3A/Users/JOTACE/Documents/LaunchX/OnBoarding/Modulo10/kata10.ipynb#ch0000011?line=5'>6</a>\u001b[0m         \u001b[39mraise\u001b[39;00m \u001b[39mTypeError\u001b[39;00m(\u001b[39mf\u001b[39m\u001b[39m\"\u001b[39m\u001b[39mTodos los argumentos deben ser de tipo int, pero se recibió: \u001b[39m\u001b[39m'\u001b[39m\u001b[39m{\u001b[39;00margumento\u001b[39m}\u001b[39;00m\u001b[39m'\u001b[39m\u001b[39m\"\u001b[39m)\n\u001b[0;32m      <a href='vscode-notebook-cell:/c%3A/Users/JOTACE/Documents/LaunchX/OnBoarding/Modulo10/kata10.ipynb#ch0000011?line=6'>7</a>\u001b[0m uso_diario \u001b[39m=\u001b[39m astronautas \u001b[39m*\u001b[39m \u001b[39m11\u001b[39m\n\u001b[0;32m      <a href='vscode-notebook-cell:/c%3A/Users/JOTACE/Documents/LaunchX/OnBoarding/Modulo10/kata10.ipynb#ch0000011?line=7'>8</a>\u001b[0m uso_total \u001b[39m=\u001b[39m uso_diario \u001b[39m*\u001b[39m dias_restantes\n",
      "\u001b[1;31mTypeError\u001b[0m: Todos los argumentos deben ser de tipo int, pero se recibió: '200'"
     ]
    }
   ],
   "source": [
    "def agua_restante(astronautas, agua_restante, dias_restantes):\n",
    "    for argumento in [astronautas, agua_restante, dias_restantes]:\n",
    "        try:\n",
    "            argumento / 10\n",
    "        except TypeError:\n",
    "            raise TypeError(f\"Todos los argumentos deben ser de tipo int, pero se recibió: '{argumento}'\")\n",
    "    uso_diario = astronautas * 11\n",
    "    uso_total = uso_diario * dias_restantes\n",
    "    total_agua_restante = agua_restante - uso_total\n",
    "    if total_agua_restante < 0:\n",
    "        raise RuntimeError(f\"No hay suficiente agua para {astronautas} astronautas después de {dias_restantes} días!\")\n",
    "    return f\"Agua restante después de {dias_restantes} días es: {total_agua_restante} litros\"\n",
    "\n",
    "agua_restante(\"3\", \"200\", None)"
   ]
  }
 ],
 "metadata": {
  "interpreter": {
   "hash": "7f88ee300d23d20ddac7f7159cb824879b5887f251f226e318205922330b58d6"
  },
  "kernelspec": {
   "display_name": "Python 3.10.2 64-bit",
   "language": "python",
   "name": "python3"
  },
  "language_info": {
   "codemirror_mode": {
    "name": "ipython",
    "version": 3
   },
   "file_extension": ".py",
   "mimetype": "text/x-python",
   "name": "python",
   "nbconvert_exporter": "python",
   "pygments_lexer": "ipython3",
   "version": "3.10.2"
  },
  "orig_nbformat": 4
 },
 "nbformat": 4,
 "nbformat_minor": 2
}
