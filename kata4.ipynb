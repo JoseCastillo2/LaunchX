{
 "cells": [
  {
   "cell_type": "markdown",
   "metadata": {},
   "source": [
    "# Transformación y Formato De Cadenas\n",
    "\n",
    "Ejercicio 1"
   ]
  },
  {
   "cell_type": "code",
   "execution_count": null,
   "metadata": {},
   "outputs": [],
   "source": [
    "texto = \"\"\"Interesting facts about the Moon. The Moon is Earth's only satellite. There are several interesting facts about the Moon and how it affects life here on Earth. On average, the moon moves 4cm away from the Earth every year. This yearly drift is not significant enough to cause immediate effects on Earth. The highest daylight temperature of the Moon is 127 C.\"\"\"\n",
    "\n",
    "texto_dividido = texto.split('. ')\n",
    "\n",
    "palabras_clave = ['average','temperature','distance']\n",
    "\n",
    "for oracion in texto_dividido:\n",
    "    for clave in palabras_clave:\n",
    "        if clave in oracion:\n",
    "            print(oracion.replace(' C', ' Celsius'))\n",
    "            break"
   ]
  },
  {
   "cell_type": "markdown",
   "metadata": {},
   "source": [
    "Ejercicio 2"
   ]
  },
  {
   "cell_type": "code",
   "execution_count": null,
   "metadata": {},
   "outputs": [],
   "source": [
    "nombre = \"Luna\"\n",
    "gravedad = 0.0012 # en kms\n",
    "planeta = \"Tierra\"\n",
    "\n",
    "titulo = f'datos de la gravedad sobre: {nombre}'\n",
    "\n",
    "hechos = f\"\"\"{'-'*50}\n",
    "Planeta: {planeta}\n",
    "Gravedad en {nombre}: {gravedad*1000} m/s2\"\"\"\n",
    "\n",
    "plantilla = f\"\"\"{titulo.title()}\n",
    "{hechos}\n",
    "\"\"\"\n",
    "\n",
    "print(plantilla)\n",
    "\n",
    "# Nuevos Valores #\n",
    "\n",
    "planeta = 'Marte '\n",
    "gravedad  = 0.00143\n",
    "nombre = 'Ganímedes'\n",
    "\n",
    "print(plantilla)\n",
    "\n",
    "nueva_plantilla = \"\"\"Datos De La Gravedad Sobre: {nombre}\n",
    "--------------------------------------------------\n",
    "Planeta: {planeta}\n",
    "Gravedad en {nombre}: {gravedad} m/s2\n",
    "\"\"\"\n",
    "print(nueva_plantilla.format(nombre=nombre, planeta=planeta, gravedad=gravedad*1000))"
   ]
  }
 ],
 "metadata": {
  "interpreter": {
   "hash": "7f88ee300d23d20ddac7f7159cb824879b5887f251f226e318205922330b58d6"
  },
  "kernelspec": {
   "display_name": "Python 3.10.2 64-bit",
   "language": "python",
   "name": "python3"
  },
  "language_info": {
   "codemirror_mode": {
    "name": "ipython",
    "version": 3
   },
   "file_extension": ".py",
   "mimetype": "text/x-python",
   "name": "python",
   "nbconvert_exporter": "python",
   "pygments_lexer": "ipython3",
   "version": "3.10.2"
  },
  "orig_nbformat": 4
 },
 "nbformat": 4,
 "nbformat_minor": 2
}
