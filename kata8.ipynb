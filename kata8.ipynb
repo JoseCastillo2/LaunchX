{
 "cells": [
  {
   "cell_type": "markdown",
   "metadata": {},
   "source": [
    "# Diccionarios\n",
    "\n",
    "Ejercicio 1"
   ]
  },
  {
   "cell_type": "code",
   "execution_count": null,
   "metadata": {},
   "outputs": [],
   "source": [
    "planeta = {\n",
    "    'nombre' : 'Marte',\n",
    "    'lunas' : 2\n",
    "}\n",
    "\n",
    "print(f'Nombre del planeta: {planeta.get(\"nombre\")}')\n",
    "print(f'Número de lunas: {planeta[\"lunas\"]}')\n",
    "\n",
    "planeta.update({'circPolar': 6752})\n",
    "planeta['circEcuatorial'] = 6792\n",
    "\n",
    "print(f'Nombre del planeta: {planeta.get(\"nombre\")}')\n",
    "print(f'Circunferencia polar del planeta: {planeta.get(\"circPolar\")} km')\n",
    "print(f'Circunferencia ecuatorial del planeta: {planeta[\"circEcuatorial\"]} km')"
   ]
  },
  {
   "cell_type": "markdown",
   "metadata": {},
   "source": [
    "Ejercicio 2"
   ]
  },
  {
   "cell_type": "code",
   "execution_count": null,
   "metadata": {},
   "outputs": [],
   "source": [
    "lunas_planetas = {\n",
    "    'mercurio': 0,\n",
    "    'venus': 0,\n",
    "    'tierra': 1,\n",
    "    'marte': 2,\n",
    "    'jupiter': 79,\n",
    "    'saturno': 82,\n",
    "    'urano': 27,\n",
    "    'neptuno': 14,\n",
    "    'pluton': 5,\n",
    "    'haumea': 2,\n",
    "    'makemake': 1,\n",
    "    'eris': 1\n",
    "}\n",
    "\n",
    "lunasTotal = 0\n",
    "planetasTotal = len(lunas_planetas)\n",
    "\n",
    "for numLunas in lunas_planetas.values():\n",
    "    lunasTotal = lunasTotal + numLunas\n",
    "\n",
    "print(f'El número total de lunas es: {lunasTotal}')\n",
    "\n",
    "promLunas = lunasTotal/planetasTotal\n",
    "print(f'El promedio de lunas es: {promLunas}')"
   ]
  }
 ],
 "metadata": {
  "interpreter": {
   "hash": "7f88ee300d23d20ddac7f7159cb824879b5887f251f226e318205922330b58d6"
  },
  "kernelspec": {
   "display_name": "Python 3.10.2 64-bit",
   "language": "python",
   "name": "python3"
  },
  "language_info": {
   "codemirror_mode": {
    "name": "ipython",
    "version": 3
   },
   "file_extension": ".py",
   "mimetype": "text/x-python",
   "name": "python",
   "nbconvert_exporter": "python",
   "pygments_lexer": "ipython3",
   "version": "3.10.2"
  },
  "orig_nbformat": 4
 },
 "nbformat": 4,
 "nbformat_minor": 2
}
